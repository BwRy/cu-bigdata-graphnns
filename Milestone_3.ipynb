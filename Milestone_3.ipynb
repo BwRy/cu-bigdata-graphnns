{
 "cells": [
  {
   "cell_type": "markdown",
   "metadata": {
    "deletable": true,
    "editable": true
   },
   "source": [
    "# Deep Learning on Graph Data:\n",
    "\n",
    "In this presentation we use Tensorflow to detect fraudulent graph structures. "
   ]
  },
  {
   "cell_type": "code",
   "execution_count": 4,
   "metadata": {
    "collapsed": false,
    "deletable": true,
    "editable": true
   },
   "outputs": [],
   "source": [
    "%matplotlib inline\n",
    "import tensorflow as tf\n",
    "import numpy as np\n",
    "import networkx as nx\n",
    "import matplotlib.pyplot as plt\n",
    "# import seaborn as sns\n",
    "import itertools as it\n",
    "import random\n",
    "\n",
    "from scipy.misc import logsumexp"
   ]
  },
  {
   "cell_type": "code",
   "execution_count": 5,
   "metadata": {
    "collapsed": true,
    "deletable": true,
    "editable": true
   },
   "outputs": [],
   "source": [
    "# create new session if we need it\n",
    "sess = tf.Session()"
   ]
  },
  {
   "cell_type": "code",
   "execution_count": 6,
   "metadata": {
    "collapsed": false,
    "deletable": true,
    "editable": true
   },
   "outputs": [],
   "source": [
    "def generate_graphs(n, min_nodes=10, max_nodes=200, y=1):\n",
    "    # Code to generate n random graphs\n",
    "    \n",
    "    graphset = []\n",
    "    \n",
    "    for i in range(n):\n",
    "\n",
    "        # Assigning number of nodes randomly between 1-200\n",
    "        n_nodes = random.randint(min_nodes,max_nodes)\n",
    "        \n",
    "        # Modelling the resource allocation with Normal Distrib - mean: m, and stddev = s\n",
    "        p = 0.2       \n",
    "        m = 20\n",
    "        s = 0.25\n",
    "\n",
    "#         G_rand = nx.duplication_divergence_graph(n_nodes, p, 1, directed=True)\n",
    "#         G_rand = nx.gnr_graph(n_nodes,p)\n",
    "#         G_rand = nx.powerlaw_cluster_graph(n_nodes,4,0.1)\n",
    "        G_rand = nx.gnc_graph(n_nodes)\n",
    "    \n",
    "        # make sure all nodes have outdegree of at least 1\n",
    "        outds = G_rand.out_degree().values()\n",
    "        for i, outd in enumerate(outds):\n",
    "            if outd == 0 or y != 1:\n",
    "                valid_inds = range(0,i) +\\\n",
    "                                    range(i+1,n_nodes)\n",
    "#                 print i, valid_inds\n",
    "                G_rand.add_edge(i, \n",
    "                                random.choice(valid_inds))\n",
    "\n",
    "        graphset.append(G_rand)\n",
    "    \n",
    "    return graphset"
   ]
  },
  {
   "cell_type": "code",
   "execution_count": 7,
   "metadata": {
    "collapsed": false,
    "deletable": true,
    "editable": true
   },
   "outputs": [],
   "source": [
    "def displayGraph(graph):\n",
    "    pos = nx.spring_layout(graph)\n",
    "    nx.draw_networkx_nodes(graph, pos)\n",
    "    nx.draw_networkx_edges(graph, pos, arrows=True)\n",
    "    nx.draw_networkx_labels(graph,pos)\n",
    "    plt.title('Graphs generated')\n",
    "    plt.show()"
   ]
  },
  {
   "cell_type": "code",
   "execution_count": 6,
   "metadata": {
    "collapsed": false,
    "deletable": true,
    "editable": true
   },
   "outputs": [],
   "source": [
    "def pageRank_allocation(G):\n",
    "    \n",
    "    # Calculate PageRank here\n",
    "    pr = nx.pagerank(G)\n",
    "    \n",
    "    # Assign PageRank values here\n",
    "    for i in G:\n",
    "        node = G.node[i]\n",
    "        page_rank_value = pr[i]\n",
    "        node['PageRank'] = tf.constant(page_rank_value)\n",
    "        node['pr'] = pr[i]\n",
    "    return pr.values()"
   ]
  },
  {
   "cell_type": "code",
   "execution_count": 8,
   "metadata": {
    "collapsed": false,
    "deletable": true,
    "editable": true
   },
   "outputs": [
    {
     "ename": "NameError",
     "evalue": "name 'graphset' is not defined",
     "output_type": "error",
     "traceback": [
      "\u001b[0;31m---------------------------------------------------------------------------\u001b[0m",
      "\u001b[0;31mNameError\u001b[0m                                 Traceback (most recent call last)",
      "\u001b[0;32m<ipython-input-8-2b95beab56cb>\u001b[0m in \u001b[0;36m<module>\u001b[0;34m()\u001b[0m\n\u001b[1;32m     16\u001b[0m \u001b[0;34m\u001b[0m\u001b[0m\n\u001b[1;32m     17\u001b[0m \u001b[0;34m\u001b[0m\u001b[0m\n\u001b[0;32m---> 18\u001b[0;31m \u001b[0mpagerank\u001b[0m\u001b[0;34m(\u001b[0m\u001b[0mgraphset\u001b[0m\u001b[0;34m[\u001b[0m\u001b[0;36m0\u001b[0m\u001b[0;34m]\u001b[0m\u001b[0;34m)\u001b[0m\u001b[0;34m\u001b[0m\u001b[0m\n\u001b[0m",
      "\u001b[0;31mNameError\u001b[0m: name 'graphset' is not defined"
     ]
    }
   ],
   "source": [
    "# At this stage you have a list of Graphs containing random nodes from 1-200\n",
    "# Each node has a tensorFlow constant value attached to it signifying its PageRank score\n",
    "\n",
    "# first calc K, A, M\n",
    "def pagerank(graph, damping=0.85):\n",
    "    N = nx.number_of_nodes(graph)\n",
    "    A = nx.to_numpy_matrix(graph)\n",
    "    k = graph.out_degree().values()\n",
    "    K = np.diag(k)\n",
    "    M = (np.matmul(np.linalg.inv(K),A)).T\n",
    "    R = np.matmul(np.linalg.inv(np.identity(N) - damping*M),\\\n",
    "        (1.0 - damping)/N * np.ones((N,1)))\n",
    "    \n",
    "    for i in graph.node:\n",
    "        print R[i], graph.node[i]['pr']\n",
    "    \n",
    "\n",
    "    \n",
    "pagerank(generate_graphs)"
   ]
  },
  {
   "cell_type": "code",
   "execution_count": 55,
   "metadata": {
    "collapsed": false,
    "deletable": true,
    "editable": true
   },
   "outputs": [],
   "source": [
    "def gen_test1():\n",
    "    n = 10\n",
    "    thresh = 3.05\n",
    "    graphs = generate_graphs(n, min_nodes=20, \n",
    "                           max_nodes=20,y=1) +\\\n",
    "             generate_graphs(n, min_nodes=20, \n",
    "                           max_nodes=20,y=-1) \n",
    "    As = []\n",
    "    ys = []\n",
    "    ks = []\n",
    "    \n",
    "    scores = []\n",
    "    for graph in graphs:\n",
    "        pr = pageRank_allocation(graph)\n",
    "        scores.append(logsumexp(np.array(pr)))\n",
    "    \n",
    "    scores_sorted = sorted(scores)\n",
    "    thresh = scores_sorted[-4]\n",
    "        \n",
    "    for i, graph in enumerate(graphs):\n",
    "        if scores[i] > thresh:\n",
    "            ys.append(1)\n",
    "        else:\n",
    "            ys.append(-1)\n",
    "        \n",
    "        \n",
    "        As.append(nx.to_numpy_matrix(graph))\n",
    "        ks.append(graph.out_degree().values())\n",
    "        \n",
    "    return As, ys, ks, graphs\n",
    "        \n",
    "As, ys, ks, graphs = gen_test1()"
   ]
  },
  {
   "cell_type": "code",
   "execution_count": 56,
   "metadata": {
    "collapsed": false,
    "deletable": true,
    "editable": true
   },
   "outputs": [],
   "source": [
    "def tf_pagerank(n, damping=0.85):\n",
    "#     N = nx.number_of_nodes(graph)\n",
    "#     A = nx.to_numpy_matrix(graph)\n",
    "#     k = graph.out_degree().values()\n",
    "    d = tf.constant(damping)\n",
    "    N = tf.constant(n, dtype=tf.float32)\n",
    "    A = tf.placeholder(tf.float32, shape=(n,n))\n",
    "    k = tf.placeholder(tf.float32, shape=(n,))\n",
    "    kinv = tf.div(tf.ones((n,), tf.float32), k)\n",
    "    Kinv = tf.diag(kinv)\n",
    "    I2 = tf.eye(n)\n",
    "    M = tf.transpose(tf.matmul(Kinv, A))\n",
    "    Minv = tf.matrix_inverse(I2 - d*M)\n",
    "    R = tf.matmul(Minv,\\\n",
    "        tf.multiply((1.0 - damping)/N, tf.ones((n,1))))\n",
    "    \n",
    "    return R, A, k"
   ]
  },
  {
   "cell_type": "code",
   "execution_count": 63,
   "metadata": {
    "collapsed": false,
    "deletable": true,
    "editable": true,
    "scrolled": false
   },
   "outputs": [
    {
     "data": {
      "image/png": "[encoded data removed]",
      "text/plain": [
       "<matplotlib.figure.Figure at 0x7fc373f4cf50>"
      ]
     },
     "metadata": {},
     "output_type": "display_data"
    }
   ],
   "source": [
    "def opt_pgrank(As, ys, ks):\n",
    "    thresh = tf.Variable(0.0, name='threshold')\n",
    "    R, A, k = tf_pagerank(20)\n",
    "    y = tf.placeholder(tf.float32, shape=())\n",
    "    \n",
    "    cost = tf.nn.relu(tf.multiply(y, (thresh - tf.reduce_logsumexp(R))))\n",
    "    \n",
    "    optimizer = tf.train.GradientDescentOptimizer(0.1)\n",
    "    trainer = optimizer.minimize(cost)\n",
    "    \n",
    "    # get things ready\n",
    "    sess.run(tf.global_variables_initializer())\n",
    "    \n",
    "    epochs = 3\n",
    "    loss = []\n",
    "    thresh_hist = []\n",
    "    for epoch in range(epochs):\n",
    "        for i in range(len(ys)):\n",
    "            sess.run(trainer, feed_dict={A : As[i], y : ys[i], k : ks[i]})\n",
    "            loss.append(sess.run(cost, feed_dict={A : As[i], y : ys[i], k : ks[i]}))\n",
    "            thresh_hist.append(sess.run(thresh, feed_dict={A : As[i], y : ys[i], k : ks[i]}))\n",
    "    plt.plot(loss)\n",
    "    plt.plot(thresh_hist)\n",
    "    plt.show()\n",
    "        \n",
    "opt_pgrank(As, ys, ks)"
   ]
  },
  {
   "cell_type": "code",
   "execution_count": null,
   "metadata": {
    "collapsed": true,
    "deletable": true,
    "editable": true
   },
   "outputs": [],
   "source": []
  }
 ],
 "metadata": {
  "kernelspec": {
   "display_name": "Python 2",
   "language": "python",
   "name": "python2"
  },
  "language_info": {
   "codemirror_mode": {
    "name": "ipython",
    "version": 2
   },
   "file_extension": ".py",
   "mimetype": "text/x-python",
   "name": "python",
   "nbconvert_exporter": "python",
   "pygments_lexer": "ipython2",
   "version": "2.7.12"
  }
 },
 "nbformat": 4,
 "nbformat_minor": 2
}
